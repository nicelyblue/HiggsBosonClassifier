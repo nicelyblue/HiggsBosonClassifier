{
  "nbformat": 4,
  "nbformat_minor": 0,
  "metadata": {
    "colab": {
      "name": "Higgs_Boson_classifier_Random_Forest",
      "provenance": [],
      "collapsed_sections": []
    },
    "kernelspec": {
      "display_name": "Python 3",
      "name": "python3"
    }
  },
  "cells": [
    {
      "cell_type": "markdown",
      "metadata": {
        "id": "XmQRl32I4E2G"
      },
      "source": [
        "# Loading the Data Set"
      ]
    },
    {
      "cell_type": "code",
      "metadata": {
        "id": "LWldhQwA3guc"
      },
      "source": [
        "import numpy\r\n",
        "\r\n",
        "test_size = 550000\r\n",
        "\r\n",
        "dtrain = numpy.loadtxt('/content/drive/My Drive/Higgs Boson classifier/training.csv', delimiter=',', skiprows=1,\r\n",
        "                    converters={32: lambda x: int(x == 's'.encode('utf-8'))})\r\n",
        "\r\n",
        "y_train = dtrain[:, -1]\r\n",
        "X_train = dtrain[:, 1:31]\r\n",
        "weight_train = dtrain[:, 31] * float(test_size)/len(y_train)\r\n",
        "\r\n",
        "dtest = numpy.loadtxt('/content/drive/My Drive/Higgs Boson classifier/test.csv', delimiter=',', skiprows=1 )\r\n",
        "\r\n",
        "\r\n",
        "X_test   = dtest[:,1:31]\r\n",
        "EventID = dtest[:,0]"
      ],
      "execution_count": null,
      "outputs": []
    },
    {
      "cell_type": "markdown",
      "metadata": {
        "id": "nfLzsZ_0Ik7F"
      },
      "source": [
        "# Feature Selection Using Principal Component Analysis"
      ]
    },
    {
      "cell_type": "code",
      "metadata": {
        "colab": {
          "base_uri": "https://localhost:8080/",
          "height": 279
        },
        "id": "Ca_6KywlIfr3",
        "outputId": "6689e9ba-973e-4d77-af5e-751d1dc02718"
      },
      "source": [
        "from matplotlib import pyplot\r\n",
        "from sklearn.decomposition import PCA\r\n",
        "\r\n",
        "pca = PCA().fit(X_train)\r\n",
        "pyplot.plot(numpy.cumsum(pca.explained_variance_ratio_))\r\n",
        "pyplot.xlabel('number of components')\r\n",
        "pyplot.ylabel('cumulative explained variance');"
      ],
      "execution_count": null,
      "outputs": [
        {
          "output_type": "display_data",
          "data": {
            "image/png": "[encoded data removed]",
            "text/plain": [
              "<Figure size 432x288 with 1 Axes>"
            ]
          },
          "metadata": {
            "tags": []
          }
        }
      ]
    },
    {
      "cell_type": "code",
      "metadata": {
        "id": "A_KMJg_5CjfR"
      },
      "source": [
        "pca = PCA(n_components=5, svd_solver='full').fit(X_train)\r\n",
        "X_train = pca.transform(X_train)\r\n",
        "X_test = pca.transform(X_test)"
      ],
      "execution_count": null,
      "outputs": []
    },
    {
      "cell_type": "markdown",
      "metadata": {
        "id": "1-ceOOp5drU3"
      },
      "source": [
        "# Feature Selection Using Recursive Feature Eliminator"
      ]
    },
    {
      "cell_type": "code",
      "metadata": {
        "colab": {
          "background_save": true
        },
        "id": "6sMmXaELdywu",
        "outputId": "9943569b-f9e4-48b6-c8a5-b3097215f5cb"
      },
      "source": [
        "from sklearn.feature_selection import RFECV\r\n",
        "from sklearn.ensemble import RandomForestClassifier\r\n",
        "from joblib import dump, load\r\n",
        "\r\n",
        "rfc = RandomForestClassifier()\r\n",
        "rfe = RFECV(rfc)\r\n",
        "rfe.fit(X_train, y_train)\r\n",
        "rfe.get_support()\r\n",
        "\r\n",
        "rfe.transform(X_train)\r\n",
        "rfe.transform(X_test)\r\n",
        "\r\n",
        "dump(X_train, '/content/drive/My Drive/Higgs Boson classifier/X_train_wo_derived_reduced.joblib')\r\n",
        "dump(X_test, '/content/drive/My Drive/Higgs Boson classifier/X_test_wo_derived_reduced.joblib')"
      ],
      "execution_count": null,
      "outputs": [
        {
          "output_type": "execute_result",
          "data": {
            "text/plain": [
              "['/content/drive/My Drive/Higgs Boson classifier/X_test_wo_derived_reduced.joblib']"
            ]
          },
          "metadata": {
            "tags": []
          },
          "execution_count": 0
        }
      ]
    },
    {
      "cell_type": "markdown",
      "metadata": {
        "id": "6vqGtF3hjfZl"
      },
      "source": [
        "# GridSearch"
      ]
    },
    {
      "cell_type": "code",
      "metadata": {
        "id": "nn6TIgqNje9y"
      },
      "source": [
        "from sklearn.model_selection import GridSearchCV\r\n",
        "from sklearn.ensemble import RandomForestClassifier\r\n",
        "from joblib import dump, load\r\n",
        "\r\n",
        "param_grid = {\r\n",
        "    'n_estimators': [64, 96, 128],\r\n",
        "    'max_depth': [80, 90, 100, 110],\r\n",
        "    'min_samples_leaf': [1, 2, 5, 10, 20],\r\n",
        "    'min_samples_split': [2, 5, 10, 15, 50]}\r\n",
        "\r\n",
        "X_train = load('/content/drive/My Drive/Higgs Boson classifier/X_train_wo_derived_reduced.joblib')\r\n",
        "rfc = RandomForestClassifier(n_jobs=-1)\r\n",
        "grid_search = GridSearchCV(estimator = rfc, param_grid = param_grid, cv = 3, verbose = 1)\r\n",
        "grid_search.fit(X_train, y_train, weights_train)\r\n",
        "print(grid_search.best_params_)\r\n",
        "rfc = grid_search.best_estimator_"
      ],
      "execution_count": null,
      "outputs": []
    },
    {
      "cell_type": "markdown",
      "metadata": {
        "id": "aHxwOULjx54M"
      },
      "source": [
        "# Classification Using Random Forest"
      ]
    },
    {
      "cell_type": "code",
      "metadata": {
        "colab": {
          "base_uri": "https://localhost:8080/"
        },
        "id": "zDUO9ucux_Xe",
        "outputId": "2d295da9-a847-417e-d06c-27956cf8ddff"
      },
      "source": [
        "from sklearn.ensemble import RandomForestClassifier\r\n",
        "\r\n",
        "rfc = RandomForestClassifier()\r\n",
        "rfc.fit(X_train, y_train, weights_train)"
      ],
      "execution_count": null,
      "outputs": [
        {
          "output_type": "execute_result",
          "data": {
            "text/plain": [
              "RandomForestClassifier(bootstrap=True, ccp_alpha=0.0, class_weight=None,\n",
              "                       criterion='gini', max_depth=None, max_features='auto',\n",
              "                       max_leaf_nodes=None, max_samples=None,\n",
              "                       min_impurity_decrease=0.0, min_impurity_split=None,\n",
              "                       min_samples_leaf=1, min_samples_split=2,\n",
              "                       min_weight_fraction_leaf=0.0, n_estimators=100,\n",
              "                       n_jobs=None, oob_score=False, random_state=None,\n",
              "                       verbose=0, warm_start=False)"
            ]
          },
          "metadata": {
            "tags": []
          },
          "execution_count": 11
        }
      ]
    },
    {
      "cell_type": "markdown",
      "metadata": {
        "id": "tae9aZ72dIJg"
      },
      "source": [
        "# Saving the Model and Making Predictions"
      ]
    },
    {
      "cell_type": "code",
      "metadata": {
        "id": "9pa8IwEUax3G"
      },
      "source": [
        "from joblib import dump\r\n",
        "dump(rfc, '/content/drive/My Drive/Higgs Boson classifier/grid_searched_best_params.joblib')"
      ],
      "execution_count": null,
      "outputs": []
    },
    {
      "cell_type": "code",
      "metadata": {
        "id": "epnSoUtj1s1q"
      },
      "source": [
        "from joblib import load\r\n",
        "rfc = load('/content/drive/My Drive/Higgs Boson classifier/randomforestclsf.joblib')"
      ],
      "execution_count": null,
      "outputs": []
    },
    {
      "cell_type": "code",
      "metadata": {
        "id": "x6ykxiJvmzD4"
      },
      "source": [
        "X_test = load('/content/drive/My Drive/Higgs Boson classifier/X_test_wo_derived_reduced.joblib')"
      ],
      "execution_count": null,
      "outputs": []
    },
    {
      "cell_type": "code",
      "metadata": {
        "id": "pqdfw5UndiGm"
      },
      "source": [
        "y_pred = rfc.predict(X_test)"
      ],
      "execution_count": null,
      "outputs": []
    },
    {
      "cell_type": "markdown",
      "metadata": {
        "id": "GvGmBMxj2RAv"
      },
      "source": [
        "# Preparing the Data for Scoring\r\n"
      ]
    },
    {
      "cell_type": "code",
      "metadata": {
        "id": "dkeFJdMn2W1O"
      },
      "source": [
        "threshold_ratio = 0.15\r\n",
        "outfile = '/content/drive/My Drive/Higgs Boson classifier/submission_random_forest.csv'\r\n",
        "\r\n",
        "res  = [ ( int(EventID[i]), y_pred[i] ) for i in range(len(y_pred)) ]\r\n",
        "\r\n",
        "rorder = {}\r\n",
        "for k, v in sorted( res, key = lambda x:-x[1] ):\r\n",
        "    rorder[ k ] = len(rorder) + 1\r\n",
        "\r\n",
        "\r\n",
        "ntop = int( threshold_ratio * len(rorder ) )\r\n",
        "fo = open(outfile, 'w')\r\n",
        "nhit = 0\r\n",
        "ntot = 0\r\n",
        "fo.write('EventId,RankOrder,Class\\n')\r\n",
        "for k, v in res:\r\n",
        "    if rorder[k] <= ntop:\r\n",
        "        lb = 's'\r\n",
        "        nhit += 1\r\n",
        "    else:\r\n",
        "        lb = 'b'\r\n",
        "    fo.write('%s,%d,%s\\n' % ( k,  len(rorder)+1-rorder[k], lb ) )\r\n",
        "    ntot += 1\r\n",
        "fo.close()"
      ],
      "execution_count": null,
      "outputs": []
    }
  ]
}