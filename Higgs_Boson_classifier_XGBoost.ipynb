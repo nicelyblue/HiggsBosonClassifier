{
  "nbformat": 4,
  "nbformat_minor": 0,
  "metadata": {
    "colab": {
      "name": "Higgs_Boson_classifier_XGBoost",
      "provenance": [],
      "collapsed_sections": [],
      "toc_visible": true
    },
    "kernelspec": {
      "name": "python3",
      "display_name": "Python 3"
    }
  },
  "cells": [
    {
      "cell_type": "markdown",
      "metadata": {
        "id": "NTZ9YxYHWXqt"
      },
      "source": [
        "# Loading Data"
      ]
    },
    {
      "cell_type": "code",
      "metadata": {
        "colab": {
          "base_uri": "https://localhost:8080/"
        },
        "id": "12YC4haUWTzJ",
        "outputId": "d6891aa0-2346-4547-fdf9-c82b1fd30522"
      },
      "source": [
        "import numpy\r\n",
        "import xgboost\r\n",
        "\r\n",
        "test_size = 550000\r\n",
        "\r\n",
        "dtrain = numpy.loadtxt('/content/drive/My Drive/Higgs Boson classifier/training.csv', delimiter=',', skiprows=1,\r\n",
        "                    converters={32: lambda x: int(x == 's'.encode('utf-8'))})\r\n",
        "\r\n",
        "y_train = dtrain[:, -1]\r\n",
        "X_train = dtrain[:, 1:31]\r\n",
        "weight_train = dtrain[:, 31] * float(test_size)/len(y_train)\r\n",
        "\r\n",
        "dtest = numpy.loadtxt('/content/drive/My Drive/Higgs Boson classifier/test.csv', delimiter=',', skiprows=1 )\r\n",
        "\r\n",
        "\r\n",
        "X_test   = dtest[:,1:31]\r\n",
        "EventID = dtest[:,0]\r\n",
        "\r\n",
        "dtrain = xgboost.DMatrix( X_train, label=y_train, missing = -999.0, weight=weight_train )"
      ],
      "execution_count": null,
      "outputs": [
        {
          "output_type": "stream",
          "text": [
            "/usr/local/lib/python3.6/dist-packages/xgboost/core.py:614: UserWarning: Use subset (sliced data) of np.ndarray is not recommended because it will generate extra copies and increase memory consumption\n",
            "  \"because it will generate extra copies and increase memory consumption\")\n"
          ],
          "name": "stderr"
        }
      ]
    },
    {
      "cell_type": "markdown",
      "metadata": {
        "id": "BclYTodkyRyR"
      },
      "source": [
        "# Cross-Validation"
      ]
    },
    {
      "cell_type": "code",
      "metadata": {
        "id": "Px77lmCnXxzG"
      },
      "source": [
        "param = {}\r\n",
        "param['objective'] = 'binary:logitraw'\r\n",
        "param['eta'] = 0.1\r\n",
        "param['max_depth'] = 8\r\n",
        "param['silent'] = 1\r\n",
        "\r\n",
        "num_round = 1000"
      ],
      "execution_count": null,
      "outputs": []
    },
    {
      "cell_type": "code",
      "metadata": {
        "id": "I_LFi3_hYJvs"
      },
      "source": [
        "def fpreproc(dtrain, dtest, param):\r\n",
        "    label = dtrain.get_label()\r\n",
        "    ratio = float(numpy.sum(label == 0)) / numpy.sum(label==1)\r\n",
        "    param['scale_pos_weight'] = ratio\r\n",
        "    wtrain = dtrain.get_weight()\r\n",
        "    wtest = dtest.get_weight()\r\n",
        "    sum_weight = sum(wtrain) + sum(wtest)\r\n",
        "    wtrain *= sum_weight / sum(wtrain)\r\n",
        "    wtest *= sum_weight / sum(wtest)\r\n",
        "    dtrain.set_weight(wtrain)\r\n",
        "    dtest.set_weight(wtest)\r\n",
        "    return (dtrain, dtest, param)\r\n",
        "\r\n",
        "cvresult = xgboost.cv(param, dtrain, num_round, nfold=2, metrics={'ams@0.15', 'auc'}, early_stopping_rounds=2, seed = 0, fpreproc = fpreproc)"
      ],
      "execution_count": null,
      "outputs": []
    },
    {
      "cell_type": "markdown",
      "metadata": {
        "id": "oWTeQxKpyizb"
      },
      "source": [
        "# Training the Model"
      ]
    },
    {
      "cell_type": "code",
      "metadata": {
        "id": "AHIWocGhYUTb"
      },
      "source": [
        "n_estimators = cvresult.shape[0]\r\n",
        "bst = xgboost.train( param, dtrain, n_estimators );"
      ],
      "execution_count": null,
      "outputs": []
    },
    {
      "cell_type": "markdown",
      "metadata": {
        "id": "kDWWM3nlypNw"
      },
      "source": [
        "# Making Predictions"
      ]
    },
    {
      "cell_type": "code",
      "metadata": {
        "id": "tWhSTB5rYcMi"
      },
      "source": [
        "xgmat = xgboost.DMatrix( X_test, missing = -999.0 )\r\n",
        "ypred = bst.predict( xgmat )"
      ],
      "execution_count": null,
      "outputs": []
    },
    {
      "cell_type": "markdown",
      "metadata": {
        "id": "alCYbehlyvOR"
      },
      "source": [
        "# Preparing Data for Scoring"
      ]
    },
    {
      "cell_type": "code",
      "metadata": {
        "id": "XfvCxHxHYtrn"
      },
      "source": [
        "threshold_ratio = 0.15\r\n",
        "outfile = '/content/drive/My Drive/Higgs Boson classifier/submission_xgboost_3.csv'\r\n",
        "\r\n",
        "res  = [ ( int(EventID[i]), ypred[i] ) for i in range(len(ypred)) ]\r\n",
        "\r\n",
        "rorder = {}\r\n",
        "for k, v in sorted( res, key = lambda x:-x[1] ):\r\n",
        "    rorder[ k ] = len(rorder) + 1\r\n",
        "\r\n",
        "\r\n",
        "ntop = int( threshold_ratio * len(rorder ) )\r\n",
        "fo = open(outfile, 'w')\r\n",
        "nhit = 0\r\n",
        "ntot = 0\r\n",
        "fo.write('EventId,RankOrder,Class\\n')\r\n",
        "for k, v in res:\r\n",
        "    if rorder[k] <= ntop:\r\n",
        "        lb = 's'\r\n",
        "        nhit += 1\r\n",
        "    else:\r\n",
        "        lb = 'b'\r\n",
        "    fo.write('%s,%d,%s\\n' % ( k,  len(rorder)+1-rorder[k], lb ) )\r\n",
        "    ntot += 1\r\n",
        "fo.close()"
      ],
      "execution_count": null,
      "outputs": []
    }
  ]
}